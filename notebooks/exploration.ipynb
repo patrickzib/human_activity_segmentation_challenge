{
 "cells": [
  {
   "cell_type": "markdown",
   "id": "53b24dd2",
   "metadata": {
    "pycharm": {
     "name": "#%% md\n"
    }
   },
   "source": [
    "# Challenge Human Activity Data Set Exploration\n",
    "In this notebook, we explore the compiled human activity data set from the data collected by groups of students with mobile phones."
   ]
  },
  {
   "cell_type": "code",
   "execution_count": 1,
   "id": "9edc22e7",
   "metadata": {
    "pycharm": {
     "name": "#%%\n"
    }
   },
   "outputs": [],
   "source": [
    "import warnings\n",
    "\n",
    "import matplotlib.pyplot as plt\n",
    "import numpy as np\n",
    "from ipywidgets import interact\n",
    "%matplotlib inline\n",
    "%config InlineBackend.figure_formats = {'png', 'retina'}\n",
    "\n",
    "from utils import load_data\n",
    "warnings.simplefilter(\"ignore\")"
   ]
  },
  {
   "cell_type": "markdown",
   "id": "4a37ec46",
   "metadata": {
    "pycharm": {
     "name": "#%% md\n"
    }
   },
   "source": [
    "First, we load the 250 time series (TS) as a pandas DataFrame. Each row corresponds to a twelve-dimensional TS and every column contains one channel of sensor data."
   ]
  },
  {
   "cell_type": "code",
   "execution_count": 2,
   "id": "4d1ea518",
   "metadata": {
    "pycharm": {
     "name": "#%%\n"
    }
   },
   "outputs": [
    {
     "data": {
      "text/html": [
       "<div>\n",
       "<style scoped>\n",
       "    .dataframe tbody tr th:only-of-type {\n",
       "        vertical-align: middle;\n",
       "    }\n",
       "\n",
       "    .dataframe tbody tr th {\n",
       "        vertical-align: top;\n",
       "    }\n",
       "\n",
       "    .dataframe thead th {\n",
       "        text-align: right;\n",
       "    }\n",
       "</style>\n",
       "<table border=\"1\" class=\"dataframe\">\n",
       "  <thead>\n",
       "    <tr style=\"text-align: right;\">\n",
       "      <th></th>\n",
       "      <th>x-acc</th>\n",
       "      <th>y-acc</th>\n",
       "      <th>z-acc</th>\n",
       "      <th>x-gyro</th>\n",
       "      <th>y-gyro</th>\n",
       "      <th>z-gyro</th>\n",
       "      <th>x-mag</th>\n",
       "      <th>y-mag</th>\n",
       "      <th>z-mag</th>\n",
       "      <th>lat</th>\n",
       "      <th>lon</th>\n",
       "      <th>speed</th>\n",
       "    </tr>\n",
       "  </thead>\n",
       "  <tbody>\n",
       "    <tr>\n",
       "      <th>0</th>\n",
       "      <td>[0.406, 0.7786, 0.70785, 0.5649, 0.268, -0.035...</td>\n",
       "      <td>[-0.4804, -0.19365, 0.4704, 0.6985, 0.45065, 0...</td>\n",
       "      <td>[1.775, 2.5445, 2.3076499999999998, 1.85993333...</td>\n",
       "      <td>[-0.2425, -0.1857, -0.0446, 0.0733, -0.0122, -...</td>\n",
       "      <td>[1.2022, 1.204, 1.2584, 1.4465, 1.6316, 1.5009...</td>\n",
       "      <td>[-0.0538, -0.0324, 0.0147, 0.0568, 0.0531, -0....</td>\n",
       "      <td>[-24.9, -23.4, -23.4, -23.4, -21.3, -21.3, -21...</td>\n",
       "      <td>[60.3, 62.0, 62.0, 62.0, 61.2, 61.2, 61.2, 62....</td>\n",
       "      <td>[-24.4, -26.1, -26.1, -26.1, -26.9, -26.9, -26...</td>\n",
       "      <td>[]</td>\n",
       "      <td>[]</td>\n",
       "      <td>[]</td>\n",
       "    </tr>\n",
       "    <tr>\n",
       "      <th>1</th>\n",
       "      <td>[-0.2274, -0.2274, 0.1261, 0.1261, 0.1261, -0....</td>\n",
       "      <td>[0.5969, 0.5969, 0.1466, 0.1466, 0.1466, 0.515...</td>\n",
       "      <td>[-0.5992, -0.5992, -0.0643, -0.0643, -0.0643, ...</td>\n",
       "      <td>[-0.15955714285714287, -0.1613, -0.10250000000...</td>\n",
       "      <td>[-0.045385714285714286, -0.0391, -0.0080599999...</td>\n",
       "      <td>[-0.1735142857142857, -0.1772, -0.195, -0.2097...</td>\n",
       "      <td>[-29.4, -28.7, -28.7, -28.7, -29.1, -29.1, -29...</td>\n",
       "      <td>[-63.5, -62.4, -62.4, -62.4, -62.7, -62.7, -62...</td>\n",
       "      <td>[-52.2, -52.4, -52.4, -52.4, -52.2, -52.2, -52...</td>\n",
       "      <td>[]</td>\n",
       "      <td>[]</td>\n",
       "      <td>[]</td>\n",
       "    </tr>\n",
       "    <tr>\n",
       "      <th>2</th>\n",
       "      <td>[4.8883, 4.8883, 4.8883, 4.4134, 4.4134, 4.413...</td>\n",
       "      <td>[5.4784, 5.4784, 5.4784, 5.8291, 5.8291, 5.829...</td>\n",
       "      <td>[-6.4445, -6.4445, -6.4445, -6.0946, -6.0946, ...</td>\n",
       "      <td>[0.060823076923076924, 0.08336, 0.0929, 0.2059...</td>\n",
       "      <td>[0.01392307692307692, -0.00486, -0.0012, 0.018...</td>\n",
       "      <td>[0.054430769230769234, 0.04057, 0.0391, 0.0824...</td>\n",
       "      <td>[-34.2, -34.2, -34.0, -34.0, -34.0, -34.0, -34...</td>\n",
       "      <td>[3.0, 3.0, 2.8, 2.8, 2.8, 4.3, 4.3, 4.3, 4.0, ...</td>\n",
       "      <td>[63.9, 63.9, 64.8, 64.8, 64.8, 64.9, 64.9, 64....</td>\n",
       "      <td>[]</td>\n",
       "      <td>[]</td>\n",
       "      <td>[]</td>\n",
       "    </tr>\n",
       "    <tr>\n",
       "      <th>3</th>\n",
       "      <td>[-1.2656, -1.2656, -1.2656, -6.6303, -6.6303, ...</td>\n",
       "      <td>[-0.5253, -0.5253, -0.5253, -0.0624, -0.0624, ...</td>\n",
       "      <td>[-3.9209, -3.9209, -3.9209, -4.8733, -4.8733, ...</td>\n",
       "      <td>[-0.47177142857142856, -0.46897142857142854, -...</td>\n",
       "      <td>[0.7421142857142857, 0.44257142857142856, 0.26...</td>\n",
       "      <td>[-0.16341428571428573, -0.4535285714285714, -0...</td>\n",
       "      <td>[-1.7, -2.9, -2.9, -2.9, -4.9, -4.9, -4.9, -5....</td>\n",
       "      <td>[76.8, 75.4, 75.4, 75.4, 74.8, 74.8, 74.8, 74....</td>\n",
       "      <td>[-5.0, -3.7, -3.7, -3.7, -1.2, -1.2, -1.2, 1.5...</td>\n",
       "      <td>[]</td>\n",
       "      <td>[]</td>\n",
       "      <td>[]</td>\n",
       "    </tr>\n",
       "    <tr>\n",
       "      <th>4</th>\n",
       "      <td>[-0.8136, -0.8136, -0.8136, -0.1624, -0.1624, ...</td>\n",
       "      <td>[-0.1392, -0.1392, -0.1392, -1.0283, -1.0283, ...</td>\n",
       "      <td>[0.844, 0.844, 0.844, 1.1861, 1.1861, 1.1861, ...</td>\n",
       "      <td>[-0.654675, -0.7183900000000001, -0.7294, -0.7...</td>\n",
       "      <td>[-0.021399999999999995, -0.11534, -0.1124, 0.0...</td>\n",
       "      <td>[0.032975, 0.05033, 0.0452, 0.03444, 0.0851099...</td>\n",
       "      <td>[10.6, 10.6, 10.6, 11.3, 11.3, 11.3, 12.1, 12....</td>\n",
       "      <td>[-69.2, -69.2, -69.2, -64.5, -64.5, -64.5, -60...</td>\n",
       "      <td>[-50.3, -50.3, -50.3, -53.5, -53.5, -53.5, -57...</td>\n",
       "      <td>[]</td>\n",
       "      <td>[]</td>\n",
       "      <td>[]</td>\n",
       "    </tr>\n",
       "  </tbody>\n",
       "</table>\n",
       "</div>"
      ],
      "text/plain": [
       "                                               x-acc  \\\n",
       "0  [0.406, 0.7786, 0.70785, 0.5649, 0.268, -0.035...   \n",
       "1  [-0.2274, -0.2274, 0.1261, 0.1261, 0.1261, -0....   \n",
       "2  [4.8883, 4.8883, 4.8883, 4.4134, 4.4134, 4.413...   \n",
       "3  [-1.2656, -1.2656, -1.2656, -6.6303, -6.6303, ...   \n",
       "4  [-0.8136, -0.8136, -0.8136, -0.1624, -0.1624, ...   \n",
       "\n",
       "                                               y-acc  \\\n",
       "0  [-0.4804, -0.19365, 0.4704, 0.6985, 0.45065, 0...   \n",
       "1  [0.5969, 0.5969, 0.1466, 0.1466, 0.1466, 0.515...   \n",
       "2  [5.4784, 5.4784, 5.4784, 5.8291, 5.8291, 5.829...   \n",
       "3  [-0.5253, -0.5253, -0.5253, -0.0624, -0.0624, ...   \n",
       "4  [-0.1392, -0.1392, -0.1392, -1.0283, -1.0283, ...   \n",
       "\n",
       "                                               z-acc  \\\n",
       "0  [1.775, 2.5445, 2.3076499999999998, 1.85993333...   \n",
       "1  [-0.5992, -0.5992, -0.0643, -0.0643, -0.0643, ...   \n",
       "2  [-6.4445, -6.4445, -6.4445, -6.0946, -6.0946, ...   \n",
       "3  [-3.9209, -3.9209, -3.9209, -4.8733, -4.8733, ...   \n",
       "4  [0.844, 0.844, 0.844, 1.1861, 1.1861, 1.1861, ...   \n",
       "\n",
       "                                              x-gyro  \\\n",
       "0  [-0.2425, -0.1857, -0.0446, 0.0733, -0.0122, -...   \n",
       "1  [-0.15955714285714287, -0.1613, -0.10250000000...   \n",
       "2  [0.060823076923076924, 0.08336, 0.0929, 0.2059...   \n",
       "3  [-0.47177142857142856, -0.46897142857142854, -...   \n",
       "4  [-0.654675, -0.7183900000000001, -0.7294, -0.7...   \n",
       "\n",
       "                                              y-gyro  \\\n",
       "0  [1.2022, 1.204, 1.2584, 1.4465, 1.6316, 1.5009...   \n",
       "1  [-0.045385714285714286, -0.0391, -0.0080599999...   \n",
       "2  [0.01392307692307692, -0.00486, -0.0012, 0.018...   \n",
       "3  [0.7421142857142857, 0.44257142857142856, 0.26...   \n",
       "4  [-0.021399999999999995, -0.11534, -0.1124, 0.0...   \n",
       "\n",
       "                                              z-gyro  \\\n",
       "0  [-0.0538, -0.0324, 0.0147, 0.0568, 0.0531, -0....   \n",
       "1  [-0.1735142857142857, -0.1772, -0.195, -0.2097...   \n",
       "2  [0.054430769230769234, 0.04057, 0.0391, 0.0824...   \n",
       "3  [-0.16341428571428573, -0.4535285714285714, -0...   \n",
       "4  [0.032975, 0.05033, 0.0452, 0.03444, 0.0851099...   \n",
       "\n",
       "                                               x-mag  \\\n",
       "0  [-24.9, -23.4, -23.4, -23.4, -21.3, -21.3, -21...   \n",
       "1  [-29.4, -28.7, -28.7, -28.7, -29.1, -29.1, -29...   \n",
       "2  [-34.2, -34.2, -34.0, -34.0, -34.0, -34.0, -34...   \n",
       "3  [-1.7, -2.9, -2.9, -2.9, -4.9, -4.9, -4.9, -5....   \n",
       "4  [10.6, 10.6, 10.6, 11.3, 11.3, 11.3, 12.1, 12....   \n",
       "\n",
       "                                               y-mag  \\\n",
       "0  [60.3, 62.0, 62.0, 62.0, 61.2, 61.2, 61.2, 62....   \n",
       "1  [-63.5, -62.4, -62.4, -62.4, -62.7, -62.7, -62...   \n",
       "2  [3.0, 3.0, 2.8, 2.8, 2.8, 4.3, 4.3, 4.3, 4.0, ...   \n",
       "3  [76.8, 75.4, 75.4, 75.4, 74.8, 74.8, 74.8, 74....   \n",
       "4  [-69.2, -69.2, -69.2, -64.5, -64.5, -64.5, -60...   \n",
       "\n",
       "                                               z-mag lat lon speed  \n",
       "0  [-24.4, -26.1, -26.1, -26.1, -26.9, -26.9, -26...  []  []    []  \n",
       "1  [-52.2, -52.4, -52.4, -52.4, -52.2, -52.2, -52...  []  []    []  \n",
       "2  [63.9, 63.9, 64.8, 64.8, 64.8, 64.9, 64.9, 64....  []  []    []  \n",
       "3  [-5.0, -3.7, -3.7, -3.7, -1.2, -1.2, -1.2, 1.5...  []  []    []  \n",
       "4  [-50.3, -50.3, -50.3, -53.5, -53.5, -53.5, -57...  []  []    []  "
      ]
     },
     "execution_count": 2,
     "metadata": {},
     "output_type": "execute_result"
    }
   ],
   "source": [
    "df = load_data()\n",
    "df.head()"
   ]
  },
  {
   "cell_type": "markdown",
   "id": "eadc7d3e",
   "metadata": {
    "pycharm": {
     "name": "#%% md\n"
    }
   },
   "source": [
    "Let's define a function to visualise some examples of the multivariate sensor recordings."
   ]
  },
  {
   "cell_type": "code",
   "execution_count": 3,
   "id": "edfb1ccd",
   "metadata": {
    "pycharm": {
     "name": "#%%\n"
    }
   },
   "outputs": [],
   "source": [
    "def plot_activity_data(sensor_names, T, sample_rate=50, font_size=14):\n",
    "    fig, axes = plt.subplots(len(T), sharex=True, gridspec_kw={'hspace': .15}, figsize=(20, len(T) * 1))\n",
    "\n",
    "    for ts, sensor, ax in zip(T, sensor_names, axes):\n",
    "        if ts is not None:\n",
    "            ax.plot(ts)\n",
    "        ax.set_ylabel(sensor, fontsize=font_size)\n",
    "\n",
    "        for tick in ax.xaxis.get_major_ticks():\n",
    "            tick.label.set_fontsize(font_size)\n",
    "\n",
    "        for tick in ax.yaxis.get_major_ticks():\n",
    "            tick.label.set_fontsize(font_size)\n",
    "\n",
    "    axes[-1].set_xticklabels([f\"{int(tick / sample_rate)}s\" for tick in axes[-1].get_xticks()])\n",
    "    return ax"
   ]
  },
  {
   "cell_type": "markdown",
   "id": "4b947ca3",
   "metadata": {
    "pycharm": {
     "name": "#%% md\n"
    }
   },
   "source": [
    "Now, let's select an examplary subject and routine (0-249) and visualise the corresponding recording."
   ]
  },
  {
   "cell_type": "code",
   "execution_count": 4,
   "id": "e2d2cd18",
   "metadata": {
    "pycharm": {
     "name": "#%%\n"
    },
    "scrolled": false
   },
   "outputs": [
    {
     "data": {
      "application/vnd.jupyter.widget-view+json": {
       "model_id": "b03e76054809472ca33817f8906ea0f3",
       "version_major": 2,
       "version_minor": 0
      },
      "text/plain": [
       "interactive(children=(Dropdown(description='selection', options=(0, 1, 2, 3, 4, 5, 6, 7, 8, 9, 10, 11, 12, 13,…"
      ]
     },
     "metadata": {},
     "output_type": "display_data"
    }
   ],
   "source": [
    "@interact(selection=range(len(df)))\n",
    "def inspect(selection=0):\n",
    "    row = df.iloc[selection, :]\n",
    "    ax = plot_activity_data(df.columns, row)\n",
    "    plt.show()"
   ]
  },
  {
   "cell_type": "markdown",
   "id": "170f5411",
   "metadata": {
    "pycharm": {
     "name": "#%% md\n"
    }
   },
   "source": [
    "Now, let's visualize the data bset by time series length."
   ]
  },
  {
   "cell_type": "code",
   "execution_count": 5,
   "id": "5536b254",
   "metadata": {
    "pycharm": {
     "name": "#%%\n"
    }
   },
   "outputs": [
    {
     "data": {
      "image/png": "[encoded data removed]",
      "text/plain": [
       "<Figure size 1440x360 with 1 Axes>"
      ]
     },
     "metadata": {
      "image/png": {
       "height": 368,
       "width": 1210
      },
      "needs_background": "light"
     },
     "output_type": "display_data"
    }
   ],
   "source": [
    "fontsize = 24\n",
    "_, ax = plt.subplots(1, figsize=(20, 5))\n",
    "\n",
    "tslen_arg_sorted = np.argsort(df[\"x-acc\"].apply(len))\n",
    "ax.scatter(np.arange(0, df.shape[0]), df[\"x-acc\"].apply(len).iloc[tslen_arg_sorted])\n",
    "\n",
    "ax.set_xlabel(\"TS\", fontsize=fontsize)\n",
    "ax.set_ylabel(\"TS length (in seconds)\", fontsize=fontsize)\n",
    "ax.set_title(\"TS length\", fontsize=fontsize)\n",
    "\n",
    "for tick in ax.xaxis.get_major_ticks():\n",
    "    tick.label.set_fontsize(fontsize)\n",
    "\n",
    "for tick in ax.yaxis.get_major_ticks():\n",
    "    tick.label.set_fontsize(fontsize)\n",
    "\n",
    "ax.set_yticks(np.arange(0, 40_000 + 1, 10_000))\n",
    "sample_rate = 50\n",
    "ax.set_yticklabels(labels=[f\"{round((x / 50))}\" for x in np.arange(0, 40_000 + 1, 10_000)])\n",
    "plt.show()"
   ]
  }
 ],
 "metadata": {
  "kernelspec": {
   "display_name": "Python 3 (ipykernel)",
   "language": "python",
   "name": "python3"
  },
  "language_info": {
   "codemirror_mode": {
    "name": "ipython",
    "version": 3
   },
   "file_extension": ".py",
   "mimetype": "text/x-python",
   "name": "python",
   "nbconvert_exporter": "python",
   "pygments_lexer": "ipython3",
   "version": "3.8.13"
  }
 },
 "nbformat": 4,
 "nbformat_minor": 5
}
