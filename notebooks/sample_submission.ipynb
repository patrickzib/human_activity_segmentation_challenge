{
 "cells": [
  {
   "cell_type": "markdown",
   "id": "58ecaab0",
   "metadata": {},
   "source": [
    "# Sample Submission\n",
    "In this notebook, we use random guessing to create a sample submission for the challenge data."
   ]
  },
  {
   "cell_type": "code",
   "execution_count": 20,
   "id": "694bd42c",
   "metadata": {},
   "outputs": [
    {
     "name": "stdout",
     "output_type": "stream",
     "text": [
      "The autoreload extension is already loaded. To reload it, use:\n",
      "  %reload_ext autoreload\n"
     ]
    }
   ],
   "source": [
    "%load_ext autoreload\n",
    "%autoreload 2\n",
    "\n",
    "import matplotlib.pyplot as plt\n",
    "import numpy as np\n",
    "import pandas as pd\n",
    "%matplotlib inline\n",
    "%config InlineBackend.figure_formats = {'png', 'retina'}\n",
    "\n",
    "from utils import load_data, to_submission"
   ]
  },
  {
   "cell_type": "markdown",
   "id": "a2ce68ac",
   "metadata": {},
   "source": [
    "First, we load the 250 time series (TS) as a pandas DataFrame. Each row corresponds to a twelve-dimensional TS and every column contains one channel of sensor data."
   ]
  },
  {
   "cell_type": "code",
   "execution_count": 21,
   "id": "247cc2db",
   "metadata": {},
   "outputs": [],
   "source": [
    "df = load_data()"
   ]
  },
  {
   "cell_type": "markdown",
   "id": "9cdfba52",
   "metadata": {},
   "source": [
    "We randomly guess the amount and location of the change points (CPs) for the submission."
   ]
  },
  {
   "cell_type": "code",
   "execution_count": 22,
   "id": "ffe48eb1",
   "metadata": {
    "scrolled": false
   },
   "outputs": [],
   "source": [
    "# seed this process to get reproducible results\n",
    "np.random.seed(2357)\n",
    "change_points = []\n",
    "\n",
    "for idx, row in df.iterrows():\n",
    "    n_cps = np.random.choice(5, 1)[0]\n",
    "    cps = np.random.choice(row[\"x-acc\"].shape[0]-1, n_cps, replace=False)\n",
    "    cps = np.sort(cps)\n",
    "\n",
    "    if any(cp == row[\"x-acc\"].shape[0]-1 for cp in cps):\n",
    "        print(cps)\n",
    "\n",
    "    change_points.append(cps)"
   ]
  },
  {
   "cell_type": "markdown",
   "id": "38b4f633",
   "metadata": {
    "pycharm": {
     "name": "#%% md\n"
    }
   },
   "source": [
    "To make a submission, simply format the CPs in the correct way and hand in your results."
   ]
  },
  {
   "cell_type": "code",
   "execution_count": 23,
   "id": "fd958cc7",
   "metadata": {
    "pycharm": {
     "name": "#%%\n"
    }
   },
   "outputs": [
    {
     "data": {
      "text/plain": "   ts_id     segment\n0      0      1 2372\n1      0  2373 12807\n2      1      1 4985\n3      1    4986 761\n4      1   5747 1953",
      "text/html": "<div>\n<style scoped>\n    .dataframe tbody tr th:only-of-type {\n        vertical-align: middle;\n    }\n\n    .dataframe tbody tr th {\n        vertical-align: top;\n    }\n\n    .dataframe thead th {\n        text-align: right;\n    }\n</style>\n<table border=\"1\" class=\"dataframe\">\n  <thead>\n    <tr style=\"text-align: right;\">\n      <th></th>\n      <th>ts_id</th>\n      <th>segment</th>\n    </tr>\n  </thead>\n  <tbody>\n    <tr>\n      <th>0</th>\n      <td>0</td>\n      <td>1 2372</td>\n    </tr>\n    <tr>\n      <th>1</th>\n      <td>0</td>\n      <td>2373 12807</td>\n    </tr>\n    <tr>\n      <th>2</th>\n      <td>1</td>\n      <td>1 4985</td>\n    </tr>\n    <tr>\n      <th>3</th>\n      <td>1</td>\n      <td>4986 761</td>\n    </tr>\n    <tr>\n      <th>4</th>\n      <td>1</td>\n      <td>5747 1953</td>\n    </tr>\n  </tbody>\n</table>\n</div>"
     },
     "execution_count": 23,
     "metadata": {},
     "output_type": "execute_result"
    }
   ],
   "source": [
    "submission = to_submission(df, change_points)\n",
    "# submission.to_csv(\"sample_submission.csv\", index=False)\n",
    "submission.head()"
   ]
  }
 ],
 "metadata": {
  "kernelspec": {
   "display_name": "Python 3 (ipykernel)",
   "language": "python",
   "name": "python3"
  },
  "language_info": {
   "codemirror_mode": {
    "name": "ipython",
    "version": 3
   },
   "file_extension": ".py",
   "mimetype": "text/x-python",
   "name": "python",
   "nbconvert_exporter": "python",
   "pygments_lexer": "ipython3",
   "version": "3.8.13"
  }
 },
 "nbformat": 4,
 "nbformat_minor": 5
}